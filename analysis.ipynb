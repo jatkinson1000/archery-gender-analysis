{
 "cells": [
  {
   "cell_type": "markdown",
   "id": "8a2621ca-c38d-4ff4-915e-96846cfc1364",
   "metadata": {},
   "source": [
    "# Archery Gender Analysis\n",
    "\n",
    "This notebook performs the analysis required for a study into the differences between genders in indoor archery competition."
   ]
  },
  {
   "cell_type": "code",
   "execution_count": null,
   "id": "aeade22c-5516-469a-b43c-348a3f0f6299",
   "metadata": {},
   "outputs": [],
   "source": [
    "import os\n",
    "import pandas as pd\n",
    "\n",
    "from archery_gender_analysis import ianseo_scrape as ianseo_fn\n",
    "from archery_gender_analysis import plotting as plot\n",
    "from archery_gender_analysis import general_routines as gr"
   ]
  },
  {
   "cell_type": "markdown",
   "id": "72a5ccd7-0eda-4eb8-8a95-94055049c572",
   "metadata": {},
   "source": [
    "## Set up files to store data and results\n",
    "\n",
    "Define the variables:\n",
    "\n",
    "- `mydata: str` - directory where any raw data you download from ianseo will be saved\n",
    "- `myresults: str` - directory where any results (numbers in `.txt` files and figures) will be saved"
   ]
  },
  {
   "cell_type": "code",
   "execution_count": null,
   "id": "a5441ed8-00ed-4c6b-9aed-74cb74eac880",
   "metadata": {},
   "outputs": [],
   "source": [
    "mydata = \"newdata/\"\n",
    "myresults = \"newresults/\""
   ]
  },
  {
   "cell_type": "markdown",
   "id": "26a08331-5e99-4925-95a4-1dc9ad675a6e",
   "metadata": {},
   "source": [
    "Check these directories exist, and if not create them."
   ]
  },
  {
   "cell_type": "code",
   "execution_count": null,
   "id": "4b6bd3fa-3f6f-4db0-9c83-470ee5e71c2c",
   "metadata": {},
   "outputs": [],
   "source": [
    "datapath = f\"{os.getcwd()}/{mydata}/\"\n",
    "resultspath = f\"{os.getcwd()}/{myresults}/\"\n",
    "if not os.path.exists(datapath):\n",
    "    os.makedirs(datapath)\n",
    "if not os.path.exists(resultspath):\n",
    "    os.makedirs(resultspath)"
   ]
  },
  {
   "cell_type": "markdown",
   "id": "8e5afe02-77b4-4b77-9942-a8b035d546c0",
   "metadata": {},
   "source": [
    "## Construct datasets for each set of competitions we wish to analyse\n",
    "\n",
    "Datasets are defined as a dictionary with the key being a 'human-readable' identifier to each individual competition/event and the corresponding item being a url linking to the base ianseo results page for that event.\n",
    "\n",
    "Here we define two datasets as used in the study:\n",
    "\n",
    "- `AGB_NI` - Results from the Archery GB National Indoor Championships 2011, 2014 - 2019, and 2021\n",
    "- `Nimes` - Results from the Nimes Sud de France 2015 - 2022"
   ]
  },
  {
   "cell_type": "code",
   "execution_count": null,
   "id": "031398f4-8338-4436-92e3-39d126f7e5c6",
   "metadata": {},
   "outputs": [],
   "source": [
    "# Construct datasets for each competition\n",
    "# dictionaries of ianseo urls corresponding to each event\n",
    "\n",
    "# AGB NI\n",
    "AGB_NI = {\n",
    "    # \"AGB NI 2022\": \"https://www.ianseo.net/TourData/2022/12327\",\n",
    "    \"AGB NI 2021\": \"https://www.ianseo.net/TourData/2021/9399\",\n",
    "    \"AGB NI 2019\": \"https://www.ianseo.net/TourData/2019/6526\",\n",
    "    \"AGB NI 2018\": \"https://www.ianseo.net/TourData/2018/4739\",\n",
    "    \"AGB NI 2017\": \"https://www.ianseo.net/TourData/2017/3214\",\n",
    "    \"AGB NI 2016\": \"https://www.ianseo.net/TourData/2016/2192\",\n",
    "    \"AGB NI 2015\": \"https://www.ianseo.net/TourData/2015/1322\",\n",
    "    \"AGB NI 2014\": \"https://www.ianseo.net/TourData/2014/861\",\n",
    "    \"AGB NI 2011\": \"https://www.ianseo.net/TourData/2011/237\",\n",
    "}\n",
    "\n",
    "# Nimes\n",
    "Nimes = {\n",
    "    # \"Nimes 2023\": \"https://www.ianseo.net/TourData/2023/12859\",\n",
    "    \"Nimes 2022\": \"https://www.ianseo.net/TourData/2022/9959\",\n",
    "    \"Nimes 2021\": \"https://www.ianseo.net/TourData/2021/8006\",\n",
    "    \"Nimes 2020\": \"https://www.ianseo.net/TourData/2020/6255\",\n",
    "    \"Nimes 2019\": \"https://www.ianseo.net/TourData/2019/4785\",\n",
    "    \"Nimes 2018\": \"https://www.ianseo.net/TourData/2018/3113\",\n",
    "    \"Nimes 2017\": \"https://www.ianseo.net/TourData/2017/2013\",\n",
    "    \"Nimes 2016\": \"https://www.ianseo.net/TourData/2016/1276\",\n",
    "    \"Nimes 2015\": \"https://www.ianseo.net/TourData/2015/797\",\n",
    "}"
   ]
  },
  {
   "cell_type": "markdown",
   "id": "b8b12ce0-3f4a-494c-9f0b-2c6879b733db",
   "metadata": {},
   "source": [
    "## Select which dataset to use\n",
    "\n",
    "Select which of the datasets defined above we will be using for subsequent analysis and provide a name.\n",
    "\n",
    "The analysis can be re-run for different datasets by changing the following cell and re-running the notebook."
   ]
  },
  {
   "cell_type": "code",
   "execution_count": null,
   "id": "b6158294-0ee1-4bb3-aba5-e7acdc752927",
   "metadata": {},
   "outputs": [],
   "source": [
    "# Set the dataset to use\n",
    "# Here we choose the Archery GB National Indoors\n",
    "\n",
    "dataset = AGB_NI\n",
    "dataset_name = \"AGB NI\""
   ]
  },
  {
   "cell_type": "markdown",
   "id": "b35c9897-a726-43db-818f-3d256d2cf36c",
   "metadata": {},
   "source": [
    "## Retrieve the data from ianseo\n",
    "\n",
    "The following cell will retrieve the data for the requested events from ianseo and save combined results from each event as a `.csv` file in the directory specified above in the `mydata` variable."
   ]
  },
  {
   "cell_type": "code",
   "execution_count": null,
   "id": "2639f2a9-c7d6-4f63-a4f5-540fc2682711",
   "metadata": {},
   "outputs": [],
   "source": [
    "for id, url in dataset.items():\n",
    "    print(f\"processing {id}...\")\n",
    "\n",
    "    # Assume recurve and compound always exist\n",
    "    # Fetch results and combine into one table\n",
    "    RM = ianseo_fn.get_cat(url, \"IQRM.php\", div=\"R\", gen=\"M\")\n",
    "    RW = ianseo_fn.get_cat(url, \"IQRW.php\", div=\"R\", gen=\"W\")\n",
    "    CM = ianseo_fn.get_cat(url, \"IQCM.php\", div=\"C\", gen=\"M\")\n",
    "    CW = ianseo_fn.get_cat(url, \"IQCW.php\", div=\"C\", gen=\"W\")\n",
    "    full_results = pd.concat([RM, RW, CM, CW], ignore_index=True)\n",
    "\n",
    "    # Try fetching longbow results\n",
    "    try:\n",
    "        LM = ianseo_fn.get_cat(url, \"IQLM.php\", div=\"L\", gen=\"M\")\n",
    "        LW = ianseo_fn.get_cat(url, \"IQLW.php\", div=\"L\", gen=\"W\")\n",
    "        full_results = pd.concat([full_results, LM, LW], ignore_index=True)\n",
    "    except ValueError:\n",
    "        pass\n",
    "    except AttributeError:\n",
    "        pass\n",
    "\n",
    "    # Try fetching barebow results\n",
    "    try:\n",
    "        BM = ianseo_fn.get_cat(url, \"IQBM.php\", div=\"B\", gen=\"M\")\n",
    "        BW = ianseo_fn.get_cat(url, \"IQBW.php\", div=\"B\", gen=\"W\")\n",
    "        full_results = pd.concat([full_results, BM, BW], ignore_index=True)\n",
    "    except ValueError:\n",
    "        pass\n",
    "    except AttributeError:\n",
    "        pass\n",
    "\n",
    "    # Save to file\n",
    "    full_results.to_csv(f'{datapath}/{id.replace(\" \",\"_\")}_scores.csv')\n",
    "\n",
    "print(\"Done\")"
   ]
  },
  {
   "cell_type": "markdown",
   "id": "adc222f0-5970-49ff-b9e7-0705dd146614",
   "metadata": {},
   "source": [
    "## Process the data\n",
    "\n",
    "Read in all of the data from each event in this dataset into a single dataframe.\n",
    "\n",
    "Then process to to:\n",
    "\n",
    "- Calculate the percentile $p$ for separate-gender events\n",
    "- Calculate the percentile $p$ for a mixed-gender event\n",
    "- Calculate the position changes between separate and mixed events\n",
    "- Sort dataframe based on category, then score, then 10s\n",
    "- Save to files\n",
    "\n",
    "The percentile $p$ is defined as:\n",
    "$$\n",
    "p = 100 \\frac{r-1}{N-1}\n",
    "$$\n",
    "where $r$ is an individual's rank, and $N$ is the total number of competitors in the category."
   ]
  },
  {
   "cell_type": "code",
   "execution_count": null,
   "id": "125ee260-e129-463f-ac1d-5da39d9b8071",
   "metadata": {},
   "outputs": [],
   "source": [
    "df_all = gr.read_from_files(\n",
    "    dataset.keys(),\n",
    "    datapath=datapath,\n",
    "    fname_fmt=\".csv\",\n",
    "    f_pref=\"\",\n",
    "    f_suff=\"_scores\",\n",
    ")\n",
    "\n",
    "# Calculate split and mixed gender rankings and percentiles\n",
    "df_all = gr.calc_mixed_rank_percentiles(df_all)\n",
    "\n",
    "# Calculate the position changes that result for individuals by combining\n",
    "df_all = gr.calc_delta_sep_mixed(df_all)\n",
    "\n",
    "# Sort and save the raw dataset\n",
    "df_out = df_all.sort_values(\n",
    "    by=[\"Event\", \"Division\", \"Class\", \"Score\", \"10\"],\n",
    "    ascending=[False, True, True, False, False],\n",
    "    ignore_index=True,\n",
    ")\n",
    "\n",
    "with open(\n",
    "    f'{resultspath}/{dataset_name.replace(\" \",\"_\")}_raw_data.txt',\n",
    "    \"w\",\n",
    ") as f:\n",
    "    f.write(\n",
    "        df_out.to_string(\n",
    "            index=False,\n",
    "            columns=[\n",
    "                \"Event\",\n",
    "                \"Division\",\n",
    "                \"Class\",\n",
    "                \"Score\",\n",
    "                \"10\",\n",
    "                \"9\",\n",
    "                \"Sep rank\",\n",
    "                \"Mixed rank\",\n",
    "            ],\n",
    "        )\n",
    "    )\n",
    "\n",
    "# Print the dataset to check\n",
    "print(\n",
    "    df_out.to_string(\n",
    "        index=False,\n",
    "        columns=[\n",
    "            \"Event\",\n",
    "            \"Division\",\n",
    "            \"Class\",\n",
    "            \"Score\",\n",
    "            \"10\",\n",
    "            \"9\",\n",
    "            \"Sep rank\",\n",
    "            \"Mixed rank\",\n",
    "        ],\n",
    "    )\n",
    ")"
   ]
  },
  {
   "cell_type": "markdown",
   "id": "1d7fea3e-87be-4250-bd0a-1205f795faa9",
   "metadata": {},
   "source": [
    "## Produce plots\n",
    "\n",
    "### 1) Scatter male and female raw score by percentile.\n",
    "\n",
    "One plot per competition in the dataset.  \n",
    "Plot for each bowstyle.  \n",
    "Allows a comparison of male and female scores across both sets of participants."
   ]
  },
  {
   "cell_type": "code",
   "execution_count": null,
   "id": "854cb966-70a6-4b6d-a89c-0e3dffec8636",
   "metadata": {},
   "outputs": [],
   "source": [
    "# Scatter all scores against separate percentile position\n",
    "plot.scatter_scores(df_all, fsave=True)"
   ]
  },
  {
   "cell_type": "markdown",
   "id": "dcfb9d0c-be25-485a-aa11-66e3290ac197",
   "metadata": {},
   "source": [
    "### 2) Scatter raw score by percentile for mixed competition, indicating male and female scores.\n",
    "\n",
    "One plot per competition in the dataset.  \n",
    "Plot for each bowstyle.  \n",
    "Shows distribution of placings in hypothetical mixed-gender event."
   ]
  },
  {
   "cell_type": "code",
   "execution_count": null,
   "id": "8228fce5-555a-44d1-9672-7a3bada0c6d7",
   "metadata": {},
   "outputs": [],
   "source": [
    "# Scatter mixed scores against mixed percentile position (but showing gender)\n",
    "plot.scatter_mixed_scores(df_all, fsave=True)"
   ]
  },
  {
   "cell_type": "markdown",
   "id": "860f2080-d068-426f-8794-19487376a580",
   "metadata": {},
   "source": [
    "### 3) Scatter mixed percentile against separate-gender percentile\n",
    "\n",
    "One plot per competition in the dataset.  \n",
    "Plot for each bowstyle.  \n",
    "Shows how each archer is affected by combining scores into single event.  \n",
    "Add inset axes for compound and recurve to examine top 15%"
   ]
  },
  {
   "cell_type": "code",
   "execution_count": null,
   "id": "606f4968-b253-4f99-81e4-05a42b2824d4",
   "metadata": {
    "scrolled": true
   },
   "outputs": [],
   "source": [
    "# Scatter change in percentile when going from separate to mixed gender competition\n",
    "plot.mixed_split_percentile(df_all, fsave=True)"
   ]
  },
  {
   "cell_type": "markdown",
   "id": "d2c091d7-bcdc-45b7-a149-4a4f30a4764c",
   "metadata": {},
   "source": [
    "### 3) Plot position changes resulting from mixed-gender competition\n",
    "\n",
    "For male and female scores plot average change in absolute position (not percentile) resulting from a mixed gender competition.  \n",
    "Point shows average.  \n",
    "Tails show extrema.  \n",
    "Dashed lines show cutoff for podium position."
   ]
  },
  {
   "cell_type": "code",
   "execution_count": null,
   "id": "1f320c08-4a15-4928-88b9-08b67b76be84",
   "metadata": {},
   "outputs": [],
   "source": [
    "# Examine the effect on medalists across all events and plot\n",
    "# Get the change in absolute position for each archer\n",
    "delta_pos = gr.get_pos_changes(df_all, fpref=dataset_name)\n",
    "# Plot\n",
    "plot.plot_pos_changes(delta_pos, fid=dataset_name)"
   ]
  },
  {
   "cell_type": "markdown",
   "id": "2d17fe81-7823-4e30-8d88-f96a8e1d598c",
   "metadata": {},
   "source": [
    "## Perform statistical tests\n",
    "\n",
    "Use scipy to perform Welch's t-test for each event.  \n",
    "Test entire population and also broken down into smaller ranges.  \n",
    "Write out results of t-test (p-values) and also score summary statistics."
   ]
  },
  {
   "cell_type": "code",
   "execution_count": null,
   "id": "d8f9d512-86f3-4d24-a83c-59d1beb626bc",
   "metadata": {},
   "outputs": [],
   "source": [
    "# Conduct a t-test on the data by event and write to file along with key stats\n",
    "ttest = gr.conduct_t_test(\n",
    "    df_all, fpref=dataset_name, display_summary=True, display_all=True\n",
    ")\n",
    "\n",
    "print(ttest)"
   ]
  }
 ],
 "metadata": {
  "kernelspec": {
   "display_name": "Python 3 (ipykernel)",
   "language": "python",
   "name": "python3"
  },
  "language_info": {
   "codemirror_mode": {
    "name": "ipython",
    "version": 3
   },
   "file_extension": ".py",
   "mimetype": "text/x-python",
   "name": "python",
   "nbconvert_exporter": "python",
   "pygments_lexer": "ipython3",
   "version": "3.11.4"
  }
 },
 "nbformat": 4,
 "nbformat_minor": 5
}
